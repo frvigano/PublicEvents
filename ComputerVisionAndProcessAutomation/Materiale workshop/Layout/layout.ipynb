{
  "cells": [
    {
      "metadata": {
        "collapsed": true,
        "trusted": false
      },
      "cell_type": "code",
      "source": "########### Python Form Recognizer Async Layout:  extract text layout information and table data from form documents. #############\n\nimport json\nimport time\nfrom requests import get, post\n\n# Endpoint URL\nendpoint = r\"<Endpoint>\"\napim_key = \"<Subscription Key>\"\npost_url = endpoint + \"/formrecognizer/v2.0-preview/Layout/analyze\"\nsource = r\"<path to your form>\"\n\nheaders = {\n    # Request headers\n    'Content-Type': '<file type>',\n    'Ocp-Apim-Subscription-Key': apim_key,\n}\nwith open(source, \"rb\") as f:\n    data_bytes = f.read()\n\ntry:\n    resp = post(url = post_url, data = data_bytes, headers = headers)\n    if resp.status_code != 202:\n        print(\"POST analyze failed:\\n%s\" % resp.text)\n        quit()\n    print(\"POST analyze succeeded:\\n%s\" % resp.headers)\n    get_url = resp.headers[\"operation-location\"]\nexcept Exception as e:\n    print(\"POST analyze failed:\\n%s\" % str(e))\n    quit()",
      "execution_count": null,
      "outputs": []
    },
    {
      "metadata": {
        "trusted": true
      },
      "cell_type": "code",
      "source": "n_tries = 10\nn_try = 0\nwait_sec = 6\nwhile n_try < n_tries:\n    try:\n        resp = get(url = get_url, headers = {\"Ocp-Apim-Subscription-Key\": apim_key})\n        resp_json = json.loads(resp.text)\n        if resp.status_code != 200:\n            print(\"GET Layout results failed:\\n%s\" % resp_json)\n            quit()\n        status = resp_json[\"status\"]\n        if status == \"succeeded\":\n            print(\"Layout Analysis succeeded:\\n%s\" % resp_json)\n            quit()\n        if status == \"failed\":\n            print(\"Layout Analysis failed:\\n%s\" % resp_json)\n            quit()\n        # Analysis still running. Wait and retry.\n        time.sleep(wait_sec)\n        n_try += 1     \n    except Exception as e:\n        msg = \"GET analyze results failed:\\n%s\" % str(e)\n        print(msg)\n        quit()",
      "execution_count": null,
      "outputs": []
    }
  ],
  "metadata": {
    "kernelspec": {
      "name": "python36",
      "display_name": "Python 3.6",
      "language": "python"
    },
    "language_info": {
      "mimetype": "text/x-python",
      "nbconvert_exporter": "python",
      "name": "python",
      "pygments_lexer": "ipython3",
      "version": "3.6.6",
      "file_extension": ".py",
      "codemirror_mode": {
        "version": 3,
        "name": "ipython"
      }
    }
  },
  "nbformat": 4,
  "nbformat_minor": 2
}