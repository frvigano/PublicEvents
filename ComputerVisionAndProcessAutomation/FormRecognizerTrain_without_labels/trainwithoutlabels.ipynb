{
  "cells": [
    {
      "metadata": {
        "collapsed": true,
        "trusted": false
      },
      "cell_type": "code",
      "source": "########### Python Form Recognizer Labeled Async Train: call the Train Custom Model API by running the following python code + get result below#############\nimport json\nimport time\nfrom requests import get, post\n\n# Endpoint URL\nendpoint = r\"<endpoint>\"\npost_url = endpoint + r\"/formrecognizer/v2.0-preview/custom/models\"\nsource = r\"<SAS URL>\"\nprefix = \"<Blob folder name>\"\nincludeSubFolders = False\nuseLabelFile = False\n\nheaders = {\n    # Request headers\n    'Content-Type': 'application/json',\n    'Ocp-Apim-Subscription-Key': '<subsription key>',\n}\n\nbody = \t{\n    \"source\": source,\n    \"sourceFilter\": {\n        \"prefix\": prefix,\n        \"includeSubFolders\": includeSubFolders\n    },\n    \"useLabelFile\": useLabelFile\n}\n\ntry:\n    resp = post(url = post_url, json = body, headers = headers)\n    if resp.status_code != 201:\n        print(\"POST model failed (%s):\\n%s\" % (resp.status_code, json.dumps(resp.json())))\n        quit()\n    print(\"POST model succeeded:\\n%s\" % resp.headers)\n    get_url = resp.headers[\"location\"]\nexcept Exception as e:\n    print(\"POST model failed:\\n%s\" % str(e))\n    quit()",
      "execution_count": null,
      "outputs": []
    },
    {
      "metadata": {
        "trusted": true
      },
      "cell_type": "code",
      "source": "n_tries = 15\nn_try = 0\nwait_sec = 5\nmax_wait_sec = 60\nwhile n_try < n_tries:\n    try:\n        resp = get(url = get_url, headers = headers)\n        resp_json = resp.json()\n        if resp.status_code != 200:\n            print(\"GET model failed (%s):\\n%s\" % (resp.status_code, json.dumps(resp_json)))\n            quit()\n        model_status = resp_json[\"modelInfo\"][\"status\"]\n        if model_status == \"ready\":\n            print(\"Training succeeded:\\n%s\" % json.dumps(resp_json))\n            quit()\n        if model_status == \"invalid\":\n            print(\"Training failed. Model is invalid:\\n%s\" % json.dumps(resp_json))\n            quit()\n        # Training still running. Wait and retry.\n        time.sleep(wait_sec)\n        n_try += 1\n        wait_sec = min(2*wait_sec, max_wait_sec)     \n    except Exception as e:\n        msg = \"GET model failed:\\n%s\" % str(e)\n        print(msg)\n        quit()\nprint(\"Train operation did not complete within the allocated time.\")",
      "execution_count": null,
      "outputs": []
    },
    {
      "metadata": {
        "trusted": true
      },
      "cell_type": "code",
      "source": "########### Python Form Recognizer Async Analyze: newly trained model to analyze a document and extract key-value pairs and tables from it. #############\nimport json\nimport time\nfrom requests import get, post\n\n# Endpoint URL\nendpoint = r\"<endpoint>\"\napim_key = \"<subsription key>\"\nmodel_id = \"<model_id>\"\npost_url = endpoint + \"/formrecognizer/v2.0-preview/custom/models/%s/analyze\" % model_id\nsource = r\"<file path>\"\nparams = {\n    \"includeTextDetails\": True\n}\n\nheaders = {\n    # Request headers\n    'Content-Type': '<file type>',\n    'Ocp-Apim-Subscription-Key': apim_key,\n}\nwith open(source, \"rb\") as f:\n    data_bytes = f.read()\n\ntry:\n    resp = post(url = post_url, data = data_bytes, headers = headers, params = params)\n    if resp.status_code != 202:\n        print(\"POST analyze failed:\\n%s\" % json.dumps(resp.json()))\n        quit()\n    print(\"POST analyze succeeded:\\n%s\" % resp.headers)\n    get_url = resp.headers[\"operation-location\"]\nexcept Exception as e:\n    print(\"POST analyze failed:\\n%s\" % str(e))\n    quit()",
      "execution_count": null,
      "outputs": []
    },
    {
      "metadata": {
        "trusted": true
      },
      "cell_type": "code",
      "source": "n_tries = 15\nn_try = 0\nwait_sec = 5\nmax_wait_sec = 60\nwhile n_try < n_tries:\n    try:\n        resp = get(url = get_url, headers = {\"Ocp-Apim-Subscription-Key\": apim_key})\n        resp_json = resp.json()\n        if resp.status_code != 200:\n            print(\"GET analyze results failed:\\n%s\" % json.dumps(resp_json))\n            quit()\n        status = resp_json[\"status\"]\n        if status == \"succeeded\":\n            print(\"Analysis succeeded:\\n%s\" % json.dumps(resp_json))\n            quit()\n        if status == \"failed\":\n            print(\"Analysis failed:\\n%s\" % json.dumps(resp_json))\n            quit()\n        # Analysis still running. Wait and retry.\n        time.sleep(wait_sec)\n        n_try += 1\n        wait_sec = min(2*wait_sec, max_wait_sec)     \n    except Exception as e:\n        msg = \"GET analyze results failed:\\n%s\" % str(e)\n        print(msg)\n        quit()\nprint(\"Analyze operation did not complete within the allocated time.\")",
      "execution_count": null,
      "outputs": []
    }
  ],
  "metadata": {
    "kernelspec": {
      "name": "python36",
      "display_name": "Python 3.6",
      "language": "python"
    },
    "language_info": {
      "mimetype": "text/x-python",
      "nbconvert_exporter": "python",
      "name": "python",
      "pygments_lexer": "ipython3",
      "version": "3.6.6",
      "file_extension": ".py",
      "codemirror_mode": {
        "version": 3,
        "name": "ipython"
      }
    }
  },
  "nbformat": 4,
  "nbformat_minor": 2
}